{
 "cells": [
  {
   "cell_type": "markdown",
   "metadata": {},
   "source": [
    "### Basic Functions for Interactively Exploring the CORTX Metrics Stored in Pickles"
   ]
  },
  {
   "cell_type": "code",
   "execution_count": 12,
   "metadata": {},
   "outputs": [
    {
     "name": "stdout",
     "output_type": "stream",
     "text": [
      "/home/johnbent/cortx/metrics\n"
     ]
    }
   ],
   "source": [
    "%cd /home/johnbent/cortx/metrics\n",
    "import cortx_community\n",
    "import os\n",
    "from github import Github\n",
    "gh = Github(os.environ.get('GH_OATH'))\n",
    "stx = gh.get_organization('Seagate')\n",
    "repos = cortx_community.get_repos()\n",
    "ps = cortx_community.PersistentStats()"
   ]
  },
  {
   "cell_type": "code",
   "execution_count": 24,
   "metadata": {},
   "outputs": [],
   "source": [
    "# a function which can test the progress of a running scrape_metrics.py process\n",
    "def check_scan_progress(date,ps):\n",
    "    done=0\n",
    "    for repo in ps.get_repos():\n",
    "        (a,b)=ps.get_latest(repo)\n",
    "        if b == date:\n",
    "            done+=1\n",
    "        #print(\"Last report for %s is %s\" % (repo,b))\n",
    "    print(\"%d out of %d repos have been scanned\" % (done,len(ps.get_repos())))"
   ]
  },
  {
   "cell_type": "code",
   "execution_count": 14,
   "metadata": {},
   "outputs": [],
   "source": [
    "# a function for comparing a field in a repo over time\n",
    "# for example, if you want to see the change in innersource_committers over time, you can use this function\n",
    "def compare_fields(ps,repo,field,verbose=False):\n",
    "    first = None\n",
    "    last = None\n",
    "    for date in sorted(ps.stats[repo].keys()):\n",
    "        last = ps.stats[repo][date][field]\n",
    "        if first is None:\n",
    "            first = last\n",
    "        if verbose:\n",
    "            print(\"%s -> %s\" % (date, last))\n",
    "    print(\"Difference between first and last is: %s\" % (first-last))\n",
    "    print(\"Difference between last and first is: %s\" % (last-first))"
   ]
  },
  {
   "cell_type": "code",
   "execution_count": 15,
   "metadata": {},
   "outputs": [
    {
     "name": "stdout",
     "output_type": "stream",
     "text": [
      "Difference between first and last is: {'xahmad', 'gregnsk', 'amolkongre'}\n",
      "Difference between last and first is: set()\n"
     ]
    }
   ],
   "source": [
    "compare_fields(ps=ps,repo='cortx',field='innersource_committers',verbose=False)"
   ]
  },
  {
   "cell_type": "code",
   "execution_count": 16,
   "metadata": {},
   "outputs": [
    {
     "name": "stdout",
     "output_type": "stream",
     "text": [
      "Difference between first and last is: {'hemant.raut407@gmail.com', 'sawake.nikhil@gmail.com'}\n",
      "Difference between last and first is: {'iWangJiaXiang@outlook.com', 'pttpzp@hotmail.com', 'mikesevilla3@gmail.com', 'zhoutong12589@163.com', 'surikov01@icloud.com', 'sora@morimoto.io', 'wanghaoyu@frazil.me', 'dominic097@gmail.com', 'liangsibin@gmail.com', 'venkat.crescentian@gmail.com, dominic097@gmail.com', 'kchai@redhat.com', 'szhilkin@gmail.com', 'github@monster010.de', 'me@mko.io', 'matthew@tldus.com', 'kevin@kdecherf.com', 'renoir42@yahoo.com', 'andreas@gaupmann.net', 'james@ustc.edu.cn', 'matth@danielito.org', 'rogerio.pontes@pm.me', 'jiawei1227@pm.me', 'github@stillwater-sc.com', 'aaron@heyaaron.com', 'lenz@grimmer.com', 'contact@WilliamMcGann.com', 'caoshiwei@gmail.com', 'w.stief@gmx.net', 'brienarabella@gmail.com', 'plamen.m.petkov@gmail.com', 'i@4leaf.me', 'xiena89@gmail.com', 'my3157@hotmail.com', 'ariel.shtul@redislabs.com', 'grezboo@gmail.com', 'pingsivapong@hotmail.com', 'eric.yutao@gmail.com', 'i@rsplwe.com', 'byronjones@outlook.com', 'zenghuanmy@zenghuanmy.com', 'david.alpha.fox@gmail.com', 'lilinxiong1997@gmail.com', 'bararviv0120@gmai.com', 'leon.fischer@fygle.eu', 'wormik@gmail.com', 'joseph.melnick@gmail.com', 'jason@ackley.net', 'rhwlyw@163.com', 'jan@hacker.ch', 'Dammian.Miller@gmail.com', 'wobey@uncc.edu', 'linus@andromedarabbit.net', 'dch@skunkwerks.at', 'xxhdx1985126@gmail.com', 'https://www.linkedin.com/in/raikrahul/', 'leonardoprado@gmail.com', 'niradler55@gmail.com', 'gershon@weka.io', 'i@rainng.com'}\n"
     ]
    }
   ],
   "source": [
    "compare_fields(ps=ps,repo='cortx',field='external_email_addresses',verbose=False)"
   ]
  },
  {
   "cell_type": "code",
   "execution_count": 17,
   "metadata": {},
   "outputs": [
    {
     "name": "stdout",
     "output_type": "stream",
     "text": [
      "GLOBAL issues_closed_ave_age_in_s -> 4990879 \n",
      "cortx-ha issues_closed_ave_age_in_s -> 3722564 \n",
      "cortx-hare issues_closed_ave_age_in_s -> 3960006 \n",
      "GLOBAL issues_closed -> 857 \n",
      "cortx-ha issues_closed -> 24 \n",
      "cortx-hare issues_closed -> 572 \n"
     ]
    }
   ],
   "source": [
    "targets=['issues_closed_ave_age_in_s','issues_closed']\n",
    "for target in targets:\n",
    "    for r in ['GLOBAL','cortx-ha','cortx-hare']:\n",
    "        print(\"%s %s -> %d \" % (r, target, ps.stats[r]['2020-12-29'][target]))"
   ]
  },
  {
   "cell_type": "code",
   "execution_count": 25,
   "metadata": {},
   "outputs": [
    {
     "name": "stdout",
     "output_type": "stream",
     "text": [
      "19 out of 19 repos have been scanned\n"
     ]
    }
   ],
   "source": [
    "check_scan_progress('2021-01-02',ps)"
   ]
  },
  {
   "cell_type": "code",
   "execution_count": 20,
   "metadata": {},
   "outputs": [
    {
     "data": {
      "text/plain": [
       "'2021-01-02'"
      ]
     },
     "execution_count": 20,
     "metadata": {},
     "output_type": "execute_result"
    }
   ],
   "source": [
    "(a,b)=ps.get_latest('cortx-hare')\n",
    "a['issues_open']\n",
    "b"
   ]
  },
  {
   "cell_type": "code",
   "execution_count": 36,
   "metadata": {},
   "outputs": [
    {
     "data": {
      "text/plain": [
       "{('3Domse3', datetime.datetime(2020, 12, 3, 13, 16, 46)),\n",
       " ('Aar7', datetime.datetime(2020, 11, 30, 16, 12, 38)),\n",
       " ('AbhishekPawar5', datetime.datetime(2020, 6, 3, 2, 30, 15)),\n",
       " ('AndrewTsao', datetime.datetime(2020, 9, 29, 11, 12, 45)),\n",
       " ('Azure99', datetime.datetime(2020, 10, 28, 8, 39, 48)),\n",
       " ('Billjessm', datetime.datetime(2020, 10, 7, 1, 16, 23)),\n",
       " ('Bronts', datetime.datetime(2020, 10, 28, 4, 58, 24)),\n",
       " ('ByronScottJones', datetime.datetime(2020, 9, 28, 9, 37, 8)),\n",
       " ('Caron-Huang', datetime.datetime(2020, 10, 28, 15, 51, 1)),\n",
       " ('Cookiekira', datetime.datetime(2020, 10, 28, 10, 1, 27)),\n",
       " ('DNA', datetime.datetime(2020, 10, 19, 22, 37, 45)),\n",
       " ('DammianMiller', datetime.datetime(2020, 9, 25, 5, 53, 27)),\n",
       " ('DavidAlphaFox', datetime.datetime(2020, 10, 14, 2, 45, 20)),\n",
       " ('Ehekatl', datetime.datetime(2020, 9, 25, 3, 1, 48)),\n",
       " ('EricYT', datetime.datetime(2020, 10, 26, 7, 25, 49)),\n",
       " ('FYGLE', datetime.datetime(2020, 10, 10, 21, 8, 13)),\n",
       " ('FirePontiac', datetime.datetime(2020, 11, 27, 13, 10, 33)),\n",
       " ('FlorianHeigl', datetime.datetime(2020, 9, 25, 11, 17, 39)),\n",
       " ('FlorianHeigl', datetime.datetime(2020, 9, 25, 21, 49, 30)),\n",
       " ('FrancescAlted', datetime.datetime(2020, 9, 26, 7, 18, 57)),\n",
       " ('FrankZeng2000', datetime.datetime(2020, 10, 28, 9, 46, 27)),\n",
       " ('FullMentalPanic', datetime.datetime(2020, 10, 5, 14, 29, 6)),\n",
       " ('Gau02', datetime.datetime(2020, 9, 24, 18, 45, 2)),\n",
       " ('GeorgeErickson', datetime.datetime(2020, 9, 25, 7, 21, 52)),\n",
       " ('GeorgeErickson', datetime.datetime(2020, 9, 25, 7, 27, 10)),\n",
       " ('GhostPunk', datetime.datetime(2020, 9, 27, 16, 23, 5)),\n",
       " ('GrantMackey-WDC', datetime.datetime(2020, 9, 28, 16, 37, 40)),\n",
       " ('GreenEggNHam', datetime.datetime(2020, 6, 4, 19, 48, 39)),\n",
       " ('Hermanowicz', datetime.datetime(2020, 10, 22, 11, 33, 5)),\n",
       " ('JBMedeiros', datetime.datetime(2020, 10, 21, 22, 8, 56)),\n",
       " ('JugalPatil', datetime.datetime(2020, 9, 25, 10, 25, 7)),\n",
       " ('Kalpesh-Chhajed', datetime.datetime(2020, 9, 21, 16, 49, 51)),\n",
       " ('Kdecherf', datetime.datetime(2020, 10, 15, 9, 41, 31)),\n",
       " ('KiisterPlaster', datetime.datetime(2020, 12, 14, 19, 36, 31)),\n",
       " ('Kimsome', datetime.datetime(2020, 12, 19, 7, 44, 14)),\n",
       " ('LenzGr', datetime.datetime(2020, 9, 28, 9, 27, 13)),\n",
       " ('LiuYinCarl', datetime.datetime(2020, 10, 10, 14, 40, 11)),\n",
       " ('LumCheeWai', datetime.datetime(2020, 12, 8, 14, 13, 50)),\n",
       " ('ManuelCabusas', datetime.datetime(2020, 11, 6, 13, 43, 11)),\n",
       " ('ManuelCabusas', datetime.datetime(2020, 11, 7, 13, 24, 15)),\n",
       " ('NeeravChoudhari', datetime.datetime(2020, 12, 31, 4, 43, 21)),\n",
       " ('NeeravChoudhari', datetime.datetime(2020, 12, 31, 4, 43, 27)),\n",
       " ('NeeravChoudhari', datetime.datetime(2020, 12, 31, 4, 43, 30)),\n",
       " ('NeeravChoudhari', datetime.datetime(2020, 12, 31, 9, 7, 49)),\n",
       " ('O5Jeff', datetime.datetime(2020, 9, 25, 5, 59, 54)),\n",
       " ('PeterRK', datetime.datetime(2020, 11, 15, 7, 25, 10)),\n",
       " ('Plaudern', datetime.datetime(2020, 10, 28, 9, 18, 43)),\n",
       " ('ProfFan', datetime.datetime(2020, 9, 25, 13, 22, 16)),\n",
       " ('RAHUL-KESHERVANI', datetime.datetime(2020, 10, 26, 4, 42, 8)),\n",
       " ('RajeshPratapSInghChouhan', datetime.datetime(2020, 10, 13, 7, 34, 1)),\n",
       " ('RajeshPratapSInghChouhan', datetime.datetime(2020, 10, 13, 7, 34, 6)),\n",
       " ('RajeshPratapSInghChouhan', datetime.datetime(2020, 10, 13, 7, 34, 7)),\n",
       " ('Ravenwater', datetime.datetime(2020, 9, 25, 18, 17, 29)),\n",
       " ('Rsplwe', datetime.datetime(2020, 10, 3, 4, 1, 21)),\n",
       " ('Saumya-Sunder', datetime.datetime(2020, 8, 31, 15, 51, 27)),\n",
       " ('Sayanta66', datetime.datetime(2020, 10, 22, 6, 9, 10)),\n",
       " ('SondreKindem', datetime.datetime(2020, 9, 25, 21, 5)),\n",
       " ('Syize', datetime.datetime(2020, 10, 28, 8, 52, 25)),\n",
       " ('TProhofsky', datetime.datetime(2020, 5, 19, 12, 45, 31)),\n",
       " ('TheSemicolon', datetime.datetime(2020, 9, 25, 23, 59, 25)),\n",
       " ('Totobo', datetime.datetime(2020, 10, 28, 8, 49, 54)),\n",
       " ('VRanger', datetime.datetime(2020, 12, 26, 17, 46, 8)),\n",
       " ('VinozzZ', datetime.datetime(2020, 10, 1, 2, 18, 14)),\n",
       " ('VoVAllen', datetime.datetime(2020, 10, 14, 8, 20, 15)),\n",
       " ('WJL3333', datetime.datetime(2020, 10, 28, 5, 6, 35)),\n",
       " ('WesleyChanWingHung', datetime.datetime(2020, 6, 5, 12, 17, 58)),\n",
       " ('XtremeMaC', datetime.datetime(2020, 12, 14, 17, 37, 53)),\n",
       " ('aespinoza', datetime.datetime(2020, 9, 25, 16, 15, 36)),\n",
       " ('aewens', datetime.datetime(2020, 9, 28, 16, 9, 49)),\n",
       " ('amitwac2608', datetime.datetime(2020, 5, 20, 4, 15, 5)),\n",
       " ('andreas-31', datetime.datetime(2020, 9, 25, 5, 54, 54)),\n",
       " ('angristan', datetime.datetime(2020, 9, 25, 9, 9, 54)),\n",
       " ('angristan', datetime.datetime(2020, 9, 25, 9, 10, 33)),\n",
       " ('anirbanhdesk', datetime.datetime(2020, 12, 2, 14, 58)),\n",
       " ('anirbanhdesk', datetime.datetime(2020, 12, 7, 16, 59, 20)),\n",
       " ('ashtul', datetime.datetime(2020, 12, 6, 9, 33, 38)),\n",
       " ('at15', datetime.datetime(2020, 9, 26, 14, 49, 13)),\n",
       " ('bansisoni', datetime.datetime(2020, 9, 25, 3, 3, 1)),\n",
       " ('bansisoni', datetime.datetime(2020, 9, 30, 6, 31, 43)),\n",
       " ('baslking', datetime.datetime(2020, 9, 28, 15, 57, 59)),\n",
       " ('bblewett', datetime.datetime(2020, 9, 25, 3, 17, 32)),\n",
       " ('bg6cq', datetime.datetime(2020, 9, 25, 13, 0, 29)),\n",
       " ('bhavinkk', datetime.datetime(2020, 6, 8, 4, 21, 52)),\n",
       " ('bigbankhanktv', datetime.datetime(2020, 12, 25, 10, 21, 57)),\n",
       " ('bkirunge7', datetime.datetime(2020, 11, 1, 17, 48, 49)),\n",
       " ('brentstewart', datetime.datetime(2020, 9, 25, 22, 1, 37)),\n",
       " ('brian479974', datetime.datetime(2020, 9, 27, 15, 41, 11)),\n",
       " ('brian479974', datetime.datetime(2020, 10, 20, 14, 14, 54)),\n",
       " ('btravouillon', datetime.datetime(2020, 9, 26, 19, 5, 47)),\n",
       " ('burmanm', datetime.datetime(2020, 9, 25, 13, 41, 28)),\n",
       " ('charles263', datetime.datetime(2020, 10, 28, 5, 6, 20)),\n",
       " ('ciruzzo', datetime.datetime(2020, 12, 29, 0, 54, 55)),\n",
       " ('cliche7', datetime.datetime(2020, 9, 25, 0, 37, 44)),\n",
       " ('cnpdev', datetime.datetime(2020, 9, 26, 2, 4, 56)),\n",
       " ('coder280', datetime.datetime(2020, 9, 28, 22, 31, 37)),\n",
       " ('cpitclaudel', datetime.datetime(2020, 12, 14, 20, 35, 27)),\n",
       " ('daimons', datetime.datetime(2020, 12, 14, 11, 24, 33)),\n",
       " ('darkpixel', datetime.datetime(2020, 9, 28, 19, 12, 15)),\n",
       " ('dbagchee', datetime.datetime(2020, 6, 3, 15, 36, 38)),\n",
       " ('denniswier', datetime.datetime(2020, 10, 27, 22, 57, 47)),\n",
       " ('dfenglei', datetime.datetime(2020, 12, 30, 8, 57, 28)),\n",
       " ('djahnke', datetime.datetime(2020, 11, 8, 23, 18, 36)),\n",
       " ('dmitrydb', datetime.datetime(2020, 7, 15, 10, 54, 19)),\n",
       " ('dmitrydb', datetime.datetime(2020, 9, 25, 16, 32, 29)),\n",
       " ('dotnwat', datetime.datetime(2020, 9, 26, 13, 21, 17)),\n",
       " ('dshiryaev-plesk', datetime.datetime(2020, 9, 28, 3, 38, 29)),\n",
       " ('ecommerce-guy', datetime.datetime(2020, 4, 24, 15, 9, 29)),\n",
       " ('enixdark', datetime.datetime(2020, 10, 20, 18, 36, 49)),\n",
       " ('exherb', datetime.datetime(2020, 9, 30, 1, 24, 13)),\n",
       " ('fanyingjie11', datetime.datetime(2020, 11, 19, 14, 49, 5)),\n",
       " ('flix42', datetime.datetime(2020, 9, 25, 14, 18, 19)),\n",
       " ('fnmsd', datetime.datetime(2020, 10, 30, 9, 52, 1)),\n",
       " ('footlooseboss', datetime.datetime(2020, 12, 5, 9, 21, 50)),\n",
       " ('gauravchaudhari02', datetime.datetime(2020, 6, 6, 11, 35, 19)),\n",
       " ('geva30', datetime.datetime(2020, 11, 3, 16, 44, 30)),\n",
       " ('grezbo', datetime.datetime(2020, 10, 13, 1, 23, 27)),\n",
       " ('hardhub', datetime.datetime(2020, 9, 28, 8, 25, 18)),\n",
       " ('hemantvraut', datetime.datetime(2020, 6, 10, 12, 58, 2)),\n",
       " ('holajiawei', datetime.datetime(2020, 9, 29, 19, 28, 13)),\n",
       " ('huanghua78', datetime.datetime(2020, 5, 14, 0, 38, 19)),\n",
       " ('huanghua78', datetime.datetime(2020, 8, 4, 12, 42, 40)),\n",
       " ('huanghua78', datetime.datetime(2020, 11, 23, 4, 23, 11)),\n",
       " ('iWangJiaxiang', datetime.datetime(2020, 9, 25, 10, 55, 24)),\n",
       " ('imvenkip', datetime.datetime(2020, 6, 6, 1, 1, 10)),\n",
       " ('imvenkip', datetime.datetime(2020, 9, 26, 6, 26, 37)),\n",
       " ('imvenkip', datetime.datetime(2020, 9, 26, 6, 27, 15)),\n",
       " ('imvenkip', datetime.datetime(2020, 9, 26, 7, 2, 39)),\n",
       " ('imvenkip', datetime.datetime(2020, 9, 26, 7, 4, 20)),\n",
       " ('imvenkip', datetime.datetime(2020, 9, 26, 14, 29, 16)),\n",
       " ('indrajitzagade', datetime.datetime(2020, 6, 9, 11, 39, 50)),\n",
       " ('ipconfigme', datetime.datetime(2020, 10, 3, 3, 2, 28)),\n",
       " ('ipoddubnyy', datetime.datetime(2020, 9, 22, 18, 27, 23)),\n",
       " ('itsuros', datetime.datetime(2020, 12, 4, 18, 24, 3)),\n",
       " ('jaikumarm', datetime.datetime(2020, 9, 24, 19, 53, 46)),\n",
       " ('jasonliu-idat', datetime.datetime(2020, 10, 29, 5, 54, 38)),\n",
       " ('jeanfrancis', datetime.datetime(2020, 12, 21, 19, 41, 28)),\n",
       " ('jodhi', datetime.datetime(2020, 9, 27, 20, 26, 42)),\n",
       " ('joehandzik', datetime.datetime(2020, 9, 28, 21, 48, 5)),\n",
       " ('johnbent', datetime.datetime(2020, 5, 19, 2, 19, 23)),\n",
       " ('jsynack', datetime.datetime(2020, 10, 7, 23, 51, 9)),\n",
       " ('justinzw', datetime.datetime(2020, 9, 25, 21, 18, 15)),\n",
       " ('kappa-wingman', datetime.datetime(2020, 9, 26, 1, 32, 54)),\n",
       " ('kaustubh-d', datetime.datetime(2020, 9, 26, 5, 31, 11)),\n",
       " ('kaustubh-d', datetime.datetime(2020, 9, 26, 5, 31, 51)),\n",
       " ('kaustubh-d', datetime.datetime(2020, 9, 26, 5, 34, 53)),\n",
       " ('kaustubh-d', datetime.datetime(2020, 9, 26, 5, 40, 45)),\n",
       " ('kawasaki', datetime.datetime(2020, 9, 25, 4, 21, 5)),\n",
       " ('kenjhaugen', datetime.datetime(2020, 6, 4, 15, 42, 39)),\n",
       " ('ketanarlulkar', datetime.datetime(2020, 6, 13, 2, 40, 44)),\n",
       " ('kevin-a-nelson', datetime.datetime(2020, 10, 5, 17, 50, 15)),\n",
       " ('kimrow', datetime.datetime(2020, 9, 25, 18, 25, 40)),\n",
       " ('kiranmangalore', datetime.datetime(2020, 10, 1, 15, 7, 7)),\n",
       " ('kirito-0', datetime.datetime(2020, 10, 23, 14, 29, 40)),\n",
       " ('knekrasov', datetime.datetime(2020, 9, 3, 8, 27, 13)),\n",
       " ('laike23', datetime.datetime(2020, 12, 7, 0, 9, 3)),\n",
       " ('lambke', datetime.datetime(2020, 9, 25, 17, 49, 40)),\n",
       " ('layingz', datetime.datetime(2020, 10, 30, 2, 53, 35)),\n",
       " ('lihuanghai', datetime.datetime(2020, 12, 7, 12, 32, 36)),\n",
       " ('lihuimail', datetime.datetime(2020, 10, 3, 12, 34, 8)),\n",
       " ('lilinxiong', datetime.datetime(2020, 11, 26, 3, 43, 16)),\n",
       " ('lofwyr', datetime.datetime(2020, 9, 24, 18, 16, 9)),\n",
       " ('luokery', datetime.datetime(2020, 11, 15, 2, 58, 21)),\n",
       " ('mariyappanp', datetime.datetime(2020, 6, 8, 2, 28, 42)),\n",
       " ('matthdan', datetime.datetime(2020, 12, 13, 14, 9, 25)),\n",
       " ('michaelsevilla', datetime.datetime(2020, 12, 19, 1, 48, 51)),\n",
       " ('mingnet', datetime.datetime(2020, 9, 27, 4, 17, 5)),\n",
       " ('mko-io', datetime.datetime(2020, 9, 25, 3, 19, 32)),\n",
       " ('mohitpathak1', datetime.datetime(2020, 9, 26, 8, 12, 44)),\n",
       " ('monster010', datetime.datetime(2020, 10, 7, 13, 58, 38)),\n",
       " ('moose228', datetime.datetime(2020, 11, 12, 16, 56, 30)),\n",
       " ('mskarbek', datetime.datetime(2020, 10, 7, 21, 19, 4)),\n",
       " ('mskarbek', datetime.datetime(2020, 10, 7, 21, 19, 42)),\n",
       " ('muyun12', datetime.datetime(2020, 11, 18, 5, 35, 12)),\n",
       " ('my3157', datetime.datetime(2020, 12, 3, 9, 35, 47)),\n",
       " ('nampingg', datetime.datetime(2020, 12, 4, 14, 36, 58)),\n",
       " ('namu3418-seagate', datetime.datetime(2020, 6, 3, 15, 25, 53)),\n",
       " ('nikhilsawake', datetime.datetime(2020, 5, 19, 6, 43, 32)),\n",
       " ('ninovsnino', datetime.datetime(2020, 10, 9, 2, 21, 40)),\n",
       " ('nocusds', datetime.datetime(2020, 9, 28, 16, 1, 12)),\n",
       " ('novium258', datetime.datetime(2020, 9, 25, 21, 19, 24)),\n",
       " ('nulluserid', datetime.datetime(2020, 9, 24, 22, 9, 59)),\n",
       " ('ovovco', datetime.datetime(2020, 10, 28, 6, 12, 3)),\n",
       " ('paoloteti', datetime.datetime(2020, 9, 28, 7, 16, 27)),\n",
       " ('paulq11', datetime.datetime(2020, 9, 25, 22, 0, 54)),\n",
       " ('peytonmcnully', datetime.datetime(2020, 9, 30, 18, 14, 41)),\n",
       " ('peytonmcnully', datetime.datetime(2020, 9, 30, 18, 15, 37)),\n",
       " ('plamenp1973', datetime.datetime(2020, 9, 29, 9, 31, 52)),\n",
       " ('ppfranco', datetime.datetime(2020, 9, 29, 15, 21, 48)),\n",
       " ('prathameshrodi', datetime.datetime(2020, 9, 25, 13, 5, 43)),\n",
       " ('pttpzp', datetime.datetime(2020, 9, 25, 2, 3, 20)),\n",
       " ('qiuyi21', datetime.datetime(2020, 9, 25, 3, 7, 19)),\n",
       " ('rajkumarpatel2602', datetime.datetime(2020, 5, 20, 4, 12, 36)),\n",
       " ('renhwztetecs', datetime.datetime(2020, 10, 20, 10, 13, 45)),\n",
       " ('rgmacedo', datetime.datetime(2020, 12, 23, 10, 6, 43)),\n",
       " ('rikewang', datetime.datetime(2020, 10, 13, 2, 26, 45)),\n",
       " ('rogerioacp', datetime.datetime(2020, 12, 28, 18, 23, 40)),\n",
       " ('rupasree-roy', datetime.datetime(2020, 9, 29, 0, 50, 27)),\n",
       " ('ryancx', datetime.datetime(2020, 10, 21, 2, 0, 17)),\n",
       " ('sampadap03', datetime.datetime(2020, 10, 8, 9, 34, 20)),\n",
       " ('sar', datetime.datetime(2020, 10, 24, 16, 6, 27)),\n",
       " ('sbruce', datetime.datetime(2020, 8, 31, 13, 0, 37)),\n",
       " ('sbruce', datetime.datetime(2020, 9, 25, 22, 41, 32)),\n",
       " ('schnoddelbotz', datetime.datetime(2020, 10, 9, 14, 9, 49)),\n",
       " ('seagate-eds', datetime.datetime(2020, 6, 6, 1, 28, 41)),\n",
       " ('shailesh-vaidya', datetime.datetime(2020, 5, 19, 3, 50, 40)),\n",
       " ('shailesh-vaidya', datetime.datetime(2020, 9, 24, 12, 9, 29)),\n",
       " ('skmc1976', datetime.datetime(2020, 9, 25, 3, 50, 21)),\n",
       " ('smorimoto', datetime.datetime(2020, 9, 25, 9, 32, 42)),\n",
       " ('smorimoto', datetime.datetime(2020, 9, 25, 9, 32, 44)),\n",
       " ('smorimoto', datetime.datetime(2020, 9, 25, 9, 33, 23)),\n",
       " ('smorimoto', datetime.datetime(2020, 9, 25, 9, 33, 35)),\n",
       " ('smorimoto', datetime.datetime(2020, 9, 25, 9, 33, 39)),\n",
       " ('smorimoto', datetime.datetime(2020, 9, 25, 9, 33, 42)),\n",
       " ('smorimoto', datetime.datetime(2020, 9, 25, 9, 33, 45)),\n",
       " ('smorimoto', datetime.datetime(2020, 9, 25, 9, 33, 49)),\n",
       " ('smorimoto', datetime.datetime(2020, 9, 25, 9, 33, 52)),\n",
       " ('smorimoto', datetime.datetime(2020, 9, 25, 9, 33, 55)),\n",
       " ('smorimoto', datetime.datetime(2020, 9, 25, 9, 33, 59)),\n",
       " ('smorimoto', datetime.datetime(2020, 9, 25, 9, 34, 3)),\n",
       " ('smorimoto', datetime.datetime(2020, 9, 25, 9, 34, 6)),\n",
       " ('smorimoto', datetime.datetime(2020, 9, 25, 9, 34, 11)),\n",
       " ('smorimoto', datetime.datetime(2020, 9, 25, 9, 34, 20)),\n",
       " ('smorimoto', datetime.datetime(2020, 10, 8, 4, 0, 44)),\n",
       " ('spdfnet', datetime.datetime(2020, 9, 25, 8, 3, 12)),\n",
       " ('splitbrainCH', datetime.datetime(2020, 12, 27, 0, 25, 16)),\n",
       " ('sradhanand-pati', datetime.datetime(2020, 6, 8, 4, 1, 43)),\n",
       " ('starGate123', datetime.datetime(2020, 11, 11, 16, 20, 37)),\n",
       " ('starGate123', datetime.datetime(2020, 11, 30, 13, 8, 56)),\n",
       " ('stiefkind', datetime.datetime(2020, 9, 25, 12, 36, 18)),\n",
       " ('swimfish09', datetime.datetime(2020, 9, 27, 8, 2, 2)),\n",
       " ('szakitom', datetime.datetime(2020, 11, 2, 3, 13, 44)),\n",
       " ('szhilkin', datetime.datetime(2020, 9, 25, 21, 57, 51)),\n",
       " ('tb0hdan', datetime.datetime(2020, 9, 25, 12, 44, 2)),\n",
       " ('tchaikov', datetime.datetime(2020, 9, 25, 16, 14, 13)),\n",
       " ('tehbilly', datetime.datetime(2020, 10, 27, 12, 23, 48)),\n",
       " ('tgeerdes-SG', datetime.datetime(2020, 9, 25, 22, 41, 7)),\n",
       " ('thavanathan', datetime.datetime(2020, 6, 8, 3, 11, 45)),\n",
       " ('thavanathan', datetime.datetime(2020, 6, 18, 13, 54, 19)),\n",
       " ('the-oaks', datetime.datetime(2020, 9, 26, 12, 36, 11)),\n",
       " ('theanoli', datetime.datetime(2020, 12, 23, 13, 14, 47)),\n",
       " ('tldusdev', datetime.datetime(2020, 12, 15, 23, 53, 12)),\n",
       " ('tobley', datetime.datetime(2020, 9, 25, 21, 33, 33)),\n",
       " ('trisongz', datetime.datetime(2020, 9, 25, 17, 55, 39)),\n",
       " ('udayan-y21', datetime.datetime(2020, 7, 13, 6, 36, 51)),\n",
       " ('usama-jamil', datetime.datetime(2020, 10, 12, 13, 6, 57)),\n",
       " ('venkuppu-chn', datetime.datetime(2020, 7, 10, 12, 43, 46)),\n",
       " ('vishwas-bhat', datetime.datetime(2020, 6, 6, 6, 13, 13)),\n",
       " ('visuvasaraj', datetime.datetime(2020, 6, 3, 5, 8, 20)),\n",
       " ('wobey000', datetime.datetime(2020, 12, 24, 12, 53, 12)),\n",
       " ('x11562', datetime.datetime(2020, 9, 25, 7, 30, 55)),\n",
       " ('xahmad', datetime.datetime(2020, 5, 19, 14, 33, 4)),\n",
       " ('xbigo', datetime.datetime(2020, 11, 2, 13, 1, 26)),\n",
       " ('xuning97', datetime.datetime(2020, 10, 27, 9, 6, 1)),\n",
       " ('xuqing-er', datetime.datetime(2020, 11, 18, 7, 22, 55)),\n",
       " ('xxhdx1985126', datetime.datetime(2020, 9, 26, 3, 29, 54)),\n",
       " ('yanqingfu', datetime.datetime(2020, 9, 28, 1, 37, 18)),\n",
       " ('yish8213', datetime.datetime(2020, 9, 25, 6, 52, 12)),\n",
       " ('yooyer', datetime.datetime(2020, 10, 29, 2, 16, 51)),\n",
       " ('ypise', datetime.datetime(2020, 8, 6, 10, 23, 43)),\n",
       " ('zakarum', datetime.datetime(2020, 11, 4, 1, 1, 53)),\n",
       " ('zeronewb', datetime.datetime(2020, 9, 27, 20, 29, 21)),\n",
       " ('zhengshuxin', datetime.datetime(2020, 12, 27, 14, 48, 5)),\n",
       " ('zhoutong12589', datetime.datetime(2020, 10, 28, 5, 3, 3)),\n",
       " ('zyhkz', datetime.datetime(2020, 11, 4, 8, 27, 18))}"
      ]
     },
     "execution_count": 36,
     "metadata": {},
     "output_type": "execute_result"
    }
   ],
   "source": [
    "ps.stats['GLOBAL']['2021-01-02']['stars']\n"
   ]
  },
  {
   "cell_type": "code",
   "execution_count": 47,
   "metadata": {},
   "outputs": [
    {
     "name": "stdout",
     "output_type": "stream",
     "text": [
      "{'clones_unique_14_days': 4, 'pull_requests_external': 0, 'seagate_blog_referrer_uniques': 0, 'watchers': 34, 'downloads_vms': 0, 'seagate_referrer_uniques': 0, 'views_unique_14_days': 106, 'innersource_participants': 5, 'forks': 13, 'stars': 19, 'external_participants': 0, 'clones_count_14_days': 38}\n"
     ]
    }
   ],
   "source": [
    "# this block is a one-time thing to add historical data from before we automated the scraping\n",
    "d1={'innersource_participants' : 5, 'pull_requests_external' : 0, \n",
    "    'external_participants' : 0,\n",
    "    'watchers' : 34, 'stars' : 19, 'forks' : 13, 'views_unique_14_days' : 106,\n",
    "    'clones_count_14_days' : 38, 'clones_unique_14_days' : 4,\n",
    "    'seagate_blog_referrer_uniques' : 0, 'seagate_referrer_uniques' : 0,\n",
    "    'downloads_vms' : 0}\n",
    "d1_date='2020-05-19'\n",
    "d2={'innersource_participants' : 8, 'pull_requests_external' : 0, \n",
    "    'external_participants' : 0,\n",
    "    'watchers' : 69, 'stars' : 52, 'forks' : 42, \n",
    "    'views_unique_14_days' : 86,\n",
    "    'clones_count_14_days' : 15, 'clones_unique_14_days' : 6,\n",
    "    'seagate_blog_referrer_uniques' : 0, 'seagate_referrer_uniques' : 0,\n",
    "    'downloads_vms' : 0}\n",
    "d2_date='2020-07-06'\n",
    "d3={'innersource_participants' : 18, 'pull_requests_external' : 1, \n",
    "    'external_participants' : 0,\n",
    "    'watchers' : 62, 'stars' : 116, 'forks' : 31, \n",
    "    'views_unique_14_days' : 1817,\n",
    "    'clones_count_14_days' : 468, 'clones_unique_14_days' : 224,\n",
    "    'seagate_blog_referrer_uniques' : 0, 'seagate_referrer_uniques' : 0,\n",
    "    'downloads_vms' : 130}\n",
    "d3_date='2020-10-07'\n",
    "d4={'innersource_participants' : 18, 'pull_requests_external' : 4, \n",
    "    'external_participants' : 0,\n",
    "    'watchers' : 65, 'stars' : 159, 'forks' : 45, \n",
    "    'views_unique_14_days' : 817,\n",
    "    'clones_count_14_days' : 1851, 'clones_unique_14_days' : 259,\n",
    "    'seagate_blog_referrer_uniques' : 0, 'seagate_referrer_uniques' : 0,\n",
    "    'downloads_vms' : 363}\n",
    "d4_date='2020-11-03'\n",
    "print(d1)\n",
    "#ps.add_stats(date=d1_date,repo='GLOBAL',stats=d1)\n",
    "#ps.add_stats(date=d2_date,repo='GLOBAL',stats=d2)\n",
    "#ps.add_stats(date=d3_date,repo='GLOBAL',stats=d3)\n",
    "#ps.add_stats(date=d4_date,repo='GLOBAL',stats=d4)"
   ]
  },
  {
   "cell_type": "code",
   "execution_count": 42,
   "metadata": {},
   "outputs": [
    {
     "data": {
      "text/plain": [
       "['2020-05-19',\n",
       " '2020-07-06',\n",
       " '2020-10-07',\n",
       " '2020-11-03',\n",
       " '2020-12-20',\n",
       " '2020-12-21',\n",
       " '2020-12-23',\n",
       " '2020-12-24',\n",
       " '2020-12-26',\n",
       " '2020-12-29',\n",
       " '2020-12-30',\n",
       " '2021-01-02']"
      ]
     },
     "execution_count": 42,
     "metadata": {},
     "output_type": "execute_result"
    }
   ],
   "source": [
    "ps.get_dates('GLOBAL')"
   ]
  }
 ],
 "metadata": {
  "kernelspec": {
   "display_name": "Python 3",
   "language": "python",
   "name": "python3"
  },
  "language_info": {
   "codemirror_mode": {
    "name": "ipython",
    "version": 3
   },
   "file_extension": ".py",
   "mimetype": "text/x-python",
   "name": "python",
   "nbconvert_exporter": "python",
   "pygments_lexer": "ipython3",
   "version": "3.5.2"
  }
 },
 "nbformat": 4,
 "nbformat_minor": 4
}
